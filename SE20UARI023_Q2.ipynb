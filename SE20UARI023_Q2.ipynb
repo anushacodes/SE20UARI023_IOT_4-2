{
  "nbformat": 4,
  "nbformat_minor": 0,
  "metadata": {
    "colab": {
      "provenance": []
    },
    "kernelspec": {
      "name": "python3",
      "display_name": "Python 3"
    },
    "language_info": {
      "name": "python"
    }
  },
  "cells": [
    {
      "cell_type": "markdown",
      "source": [
        "Implementing First Come First Serve (FCFS) Scheduling"
      ],
      "metadata": {
        "id": "qCW41gJJn7zv"
      }
    },
    {
      "cell_type": "code",
      "execution_count": 2,
      "metadata": {
        "id": "-y4RZLufn0y0"
      },
      "outputs": [],
      "source": [
        "#imports\n",
        "\n",
        "from datetime import datetime\n",
        "\n",
        "def time_to_minutes(time_str):\n",
        "    time_format = \"%H:%M\"\n",
        "    time_obj = datetime.strptime(time_str.strip(), time_format)\n",
        "    return time_obj.hour * 60 + time_obj.minute"
      ]
    },
    {
      "cell_type": "code",
      "source": [
        "def fcfs(processes):\n",
        "    num = len(processes)\n",
        "    tot_turnaroundtime = 0\n",
        "    tot_waitingtime = 0\n",
        "\n",
        "    current_time = 0\n",
        "    process_order = []\n",
        "\n",
        "    for i in range(num):\n",
        "        ready_processes = [p for p in processes if p[1] <= current_time]\n",
        "\n",
        "        if not ready_processes:\n",
        "            current_time += 1\n",
        "            continue\n",
        "\n",
        "        current_process = min(ready_processes, key=lambda x: x[1])\n",
        "        process_order.append(current_process[0])\n",
        "\n",
        "        process_id, arrival_time, burst_time, priority = current_process\n",
        "        s_time = max(current_time, arrival_time)\n",
        "        c_time = s_time + burst_time\n",
        "        ta_time = c_time - arrival_time\n",
        "        wait_time = ta_time - burst_time\n",
        "\n",
        "        tot_turnaroundtime += ta_time\n",
        "        tot_waitingtime += wait_time\n",
        "\n",
        "        current_time = c_time\n",
        "        processes.remove(current_process)\n",
        "\n",
        "    avg_waiting_time = tot_waitingtime / num\n",
        "    avg_turnaround_time = tot_turnaroundtime / num\n",
        "\n",
        "    return process_order, avg_waiting_time, avg_turnaround_time"
      ],
      "metadata": {
        "id": "HkHNEmySohin"
      },
      "execution_count": 3,
      "outputs": []
    },
    {
      "cell_type": "markdown",
      "source": [
        "Implementing Shortest Job First (SJF) scheduling"
      ],
      "metadata": {
        "id": "IGTayrzxoo_8"
      }
    },
    {
      "cell_type": "code",
      "source": [
        "def sjf(processes):\n",
        "    num = len(processes)\n",
        "    tot_turnaroundtime = 0\n",
        "    tot_waitingtime = 0\n",
        "\n",
        "    current_time = 0\n",
        "    process_order = []\n",
        "\n",
        "    while processes:\n",
        "        ready_processes = [p for p in processes if p[1] <= current_time]\n",
        "\n",
        "        if not ready_processes:\n",
        "            current_time += 1\n",
        "            continue\n",
        "\n",
        "        shortest_process = min(ready_processes, key=lambda x: x[2])\n",
        "        process_order.append(shortest_process[0])\n",
        "\n",
        "        process_id, arrival_time, burst_time, priority = shortest_process\n",
        "        s_time = current_time\n",
        "        c_time = s_time + burst_time\n",
        "        ta_time = c_time - arrival_time\n",
        "        wait_time = ta_time - burst_time\n",
        "\n",
        "        tot_turnaroundtime += ta_time\n",
        "        tot_waitingtime += wait_time\n",
        "\n",
        "        current_time = c_time\n",
        "        processes.remove(shortest_process)\n",
        "\n",
        "    avg_waiting_time = tot_waitingtime / num\n",
        "    avg_turnaround_time = tot_turnaroundtime / num\n",
        "\n",
        "    return process_order, avg_waiting_time, avg_turnaround_time"
      ],
      "metadata": {
        "id": "CKSCGl8Wol3r"
      },
      "execution_count": 4,
      "outputs": []
    },
    {
      "cell_type": "markdown",
      "source": [
        "Implementing Priority Scheduling"
      ],
      "metadata": {
        "id": "_jkNWvfHouPF"
      }
    },
    {
      "cell_type": "code",
      "source": [
        "def ps(processes):\n",
        "    num = len(processes)\n",
        "    tot_turnaroundtime = 0\n",
        "    tot_waitingtime = 0\n",
        "\n",
        "    current_time = 0\n",
        "    process_order = []\n",
        "\n",
        "    while processes:\n",
        "        ready_processes = [p for p in processes if p[1] <= current_time]\n",
        "\n",
        "        if not ready_processes:\n",
        "            current_time += 1\n",
        "            continue\n",
        "\n",
        "        highest_priority_process = min(ready_processes, key=lambda x: x[3])\n",
        "        process_order.append(highest_priority_process[0])\n",
        "\n",
        "        process_id, arrival_time, burst_time, priority = highest_priority_process\n",
        "        s_time = current_time\n",
        "        c_time = s_time + burst_time\n",
        "        ta_time = c_time - arrival_time\n",
        "        wait_time = ta_time - burst_time\n",
        "\n",
        "        tot_turnaroundtime += ta_time\n",
        "        tot_waitingtime += wait_time\n",
        "\n",
        "        current_time = c_time\n",
        "        processes.remove(highest_priority_process)\n",
        "\n",
        "    avg_waiting_time = tot_waitingtime / num\n",
        "    avg_turnaround_time = tot_turnaroundtime / num\n",
        "\n",
        "    return process_order, avg_waiting_time, avg_turnaround_time"
      ],
      "metadata": {
        "id": "OJLaOPCWouYM"
      },
      "execution_count": 5,
      "outputs": []
    },
    {
      "cell_type": "markdown",
      "source": [
        "Main function"
      ],
      "metadata": {
        "id": "JMrj4I-9o3fn"
      }
    },
    {
      "cell_type": "code",
      "source": [
        "if __name__ == \"__main__\":\n",
        "    # Input processes: [[\"P1\", \"00:00\", 30, 3], [\"P2\", \"00:10\", 20, 1], [\"P3\", \"00:15\", 40, 4], [\"P4\", \"00:20\", 15, 2]]\n",
        "    processes = [[\"P1\", \"00:00\", 30, 3], [\"P2\", \"00:10\", 20, 1], [\"P3\", \"00:15\", 40, 4], [\"P4\", \"00:20\", 15, 2]]\n",
        "\n",
        "    # Convert arrival times to minutes\n",
        "    for process in processes:\n",
        "        process[1] = time_to_minutes(process[1])\n",
        "\n",
        "    algorithms = [\"FCFS\", \"SJF\", \"Priority\"]\n",
        "\n",
        "    results = {}  # Store results for each algorithm\n",
        "\n",
        "    for algorithm in algorithms:\n",
        "        if algorithm == \"FCFS\":\n",
        "            process_order, avg_waiting_time, avg_turnaround_time = fcfs(processes.copy())\n",
        "        elif algorithm == \"SJF\":\n",
        "            process_order, avg_waiting_time, avg_turnaround_time = sjf(processes.copy())\n",
        "        elif algorithm == \"Priority\":\n",
        "            process_order, avg_waiting_time, avg_turnaround_time = ps(processes.copy())\n",
        "\n",
        "\n",
        "        results[algorithm] = (avg_waiting_time, avg_turnaround_time, process_order)\n",
        "\n",
        "    # Print results for all algorithms\n",
        "    for algorithm, (avg_waiting_time, avg_turnaround_time, process_order) in results.items():\n",
        "        print(f\"{algorithm}:\")\n",
        "        print(f\"Process Order: {' -> '.join(process_order)}\")\n",
        "        print(f\"Average Waiting Time: {avg_waiting_time}\")\n",
        "        print(f\"Average Turnaround Time: {avg_turnaround_time}\")\n",
        "        print()"
      ],
      "metadata": {
        "colab": {
          "base_uri": "https://localhost:8080/"
        },
        "id": "3YEynuEPo3o4",
        "outputId": "d1b9c2eb-9fb1-4f88-93ee-da8d3e2cc820"
      },
      "execution_count": 6,
      "outputs": [
        {
          "output_type": "stream",
          "name": "stdout",
          "text": [
            "FCFS:\n",
            "Process Order: P1 -> P2 -> P3 -> P4\n",
            "Average Waiting Time: 31.25\n",
            "Average Turnaround Time: 57.5\n",
            "\n",
            "SJF:\n",
            "Process Order: P1 -> P4 -> P2 -> P3\n",
            "Average Waiting Time: 23.75\n",
            "Average Turnaround Time: 50.0\n",
            "\n",
            "Priority:\n",
            "Process Order: P1 -> P2 -> P4 -> P3\n",
            "Average Waiting Time: 25.0\n",
            "Average Turnaround Time: 51.25\n",
            "\n"
          ]
        }
      ]
    }
  ]
}